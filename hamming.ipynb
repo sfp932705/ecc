{
 "cells": [
  {
   "cell_type": "markdown",
   "metadata": {},
   "source": [
    "# Hamming Code Error Correction\n",
    "This noteboook shows how to use the Hamming code error corrector."
   ]
  },
  {
   "cell_type": "markdown",
   "metadata": {},
   "source": [
    "Start by importing necessary modules:"
   ]
  },
  {
   "cell_type": "code",
   "execution_count": 1,
   "metadata": {},
   "outputs": [],
   "source": [
    "from ecc.hamming import Hamming\n",
    "from ecc.message import Message\n",
    "from pydantic import ValidationError"
   ]
  },
  {
   "cell_type": "markdown",
   "metadata": {},
   "source": [
    "### Message ###\n",
    "\n",
    "The message module provides the class Message which allows to convert from strings to bits and back using the desired encoding scheme (which defaults to utf-8). To encode a string use the method `to_bits`, and to decode use `from_bits`.\n"
   ]
  },
  {
   "cell_type": "code",
   "execution_count": 2,
   "metadata": {},
   "outputs": [
    {
     "name": "stdout",
     "output_type": "stream",
     "text": [
      "bitarray('01000001001000000110110101100101011100110111001101100001011001110110010100101110')\n",
      "A message.\n"
     ]
    }
   ],
   "source": [
    "msg = Message('ascii')\n",
    "bits = msg.to_bits('A message.')\n",
    "print(bits)\n",
    "string = msg.from_bits(bits)\n",
    "print(string)"
   ]
  },
  {
   "cell_type": "markdown",
   "metadata": {},
   "source": [
    "The Message class also provides the method `negate` to negate specified bits of a bit array. This can be used to simulate a message that has been received with noise and hence it is wrongly interpreted by the receiver. For example, suppose we want to alter bits number 3,8,11 and the last three:"
   ]
  },
  {
   "cell_type": "code",
   "execution_count": 3,
   "metadata": {},
   "outputs": [
    {
     "name": "stdout",
     "output_type": "stream",
     "text": [
      "bitarray('01000001001000000110110101100101011100110111001101100001011001110110010100101110')\n",
      "bitarray('01010001101100000110110101100101011100110111001101100001011001110110010100101001')\n"
     ]
    }
   ],
   "source": [
    "print(bits)\n",
    "print(msg.negate(bits,3,8,11,-3,-2,-1))"
   ]
  },
  {
   "cell_type": "markdown",
   "metadata": {},
   "source": [
    "### Hamming codes ###\n",
    "\n",
    "This notebook is not intended to teach how Hamming codes work. They are fairly simple, and if a recap is needed, a great explanation is given in [3blue1brown](https://youtu.be/X8jsijhllIA).\n",
    "\n",
    "To use the hamming code error correction specify the desired number of parity bits. Recall that with $m$ parity bits per block, the maximum data bits are ${k=2^{m}-m-1}$. Therefore, `Hamming(4)` results in what is known as a Hamming(15,11) code. \n",
    "\n",
    "Remember that $m\\ge{2}$ and as it increases the efficiency rate also increases. Hamming codes can correct only one error per block. More than one can be detected, but not corrected, so keep in mind that increasing $m$ too much is not desired as the block length also increases.\n",
    "\n",
    "In practice, errors tend to come in burst, so once the blocks are encoded, they are interlaced in a way that bits of an effected block during the transmission channel do not actually have to belong to the same encoded hamming block.   \n",
    "\n",
    "Play around with the cell below, changing the message, the amount of parity bits choosen, and the bits altered once the message is encoded and ready to be sent or stored. Notice that the length of the encoded message depends on $m$, so draw your own conclusions regarding efficiency rate, bandwidth rate and error rate."
   ]
  },
  {
   "cell_type": "code",
   "execution_count": 4,
   "metadata": {},
   "outputs": [
    {
     "name": "stdout",
     "output_type": "stream",
     "text": [
      "Original message: \n",
      "Lorem ipsum dolor sit amet, consectetur adipiscing elit, sed do eiusmod tempor incididunt ut labore et dolore magna aliqua. Tempus iaculis urna id volutpat. Lacus suspendisse faucibus interdum posuere lorem ipsum dolor sit.\n",
      "\n",
      "Length of encoded message 2624.\n",
      "\n",
      "Decoded message: \n",
      "Lorem ipsum dolor sit amet, consectetur adipiscing elit, sed do eiusmod tempor incididunt ut labore et dolore magna aliqua. Tempus iaculis urna id volutpat. Lacus suspendisse faucibus interdum posuere lorem ipsum dolor sit.\n",
      "\n",
      "Hash of original message: 4185382622779063449\n",
      "Hash of decoded message:  4185382622779063449\n"
     ]
    }
   ],
   "source": [
    "try:\n",
    "    msg = Message()\n",
    "    message = 'Lorem ipsum dolor sit amet, consectetur adipiscing elit, sed do eiusmod tempor incididunt ut labore et dolore magna aliqua. Tempus iaculis urna id volutpat. Lacus suspendisse faucibus interdum posuere lorem ipsum dolor sit.'\n",
    "    print(f'Original message: \\n{message}\\n')\n",
    "    bits = msg.to_bits(message)\n",
    "    ham = Hamming(4)\n",
    "    enc_bits = ham.encode(bits)\n",
    "    print(f'Length of encoded message {len(enc_bits)}.\\n')\n",
    "    altered = msg.negate(enc_bits, 10,11,12,13,14,15,16,17,108,109,110,111,112,113,114,115, 1020,1021,1022,1023,1024,-8,-7-6,-5,-4,-3,-2-1)\n",
    "    decoded = ham.decode(altered)\n",
    "    decoded_msg = msg.from_bits(decoded)\n",
    "    print(f'Decoded message: \\n{decoded_msg}\\n')\n",
    "    print(f'Hash of original message: {hash(message)}')\n",
    "    print(f'Hash of decoded message:  {hash(decoded_msg)}')\n",
    "except ValidationError as exc:\n",
    "    print(exc)"
   ]
  },
  {
   "cell_type": "markdown",
   "metadata": {},
   "source": [
    "Eventhough a block with more than one error is not corrected by Hamming, sometimes the string decoding yields the expected result, this happens when there are only two wrong bits in a block and one corresponds to the first bit of the block."
   ]
  },
  {
   "cell_type": "code",
   "execution_count": 5,
   "metadata": {},
   "outputs": [
    {
     "name": "stdout",
     "output_type": "stream",
     "text": [
      "\n",
      "ERROR!!! \n",
      "More than one error detected in same block. Unable to correct.\n",
      "\n",
      "\n",
      "ERROR!!! \n",
      "More than one error detected in same block. Unable to correct.\n",
      "\n",
      "\n",
      "ERROR!!! \n",
      "More than one error detected in same block. Unable to correct.\n",
      "\n",
      "\n",
      "ERROR!!! \n",
      "More than one error detected in same block. Unable to correct.\n",
      "\n",
      "Hash of original message: 4185382622779063449\n",
      "Hash of decoded message : 4185382622779063449\n"
     ]
    }
   ],
   "source": [
    "message = 'Lorem ipsum dolor sit amet, consectetur adipiscing elit, sed do eiusmod tempor incididunt ut labore et dolore magna aliqua. Tempus iaculis urna id volutpat. Lacus suspendisse faucibus interdum posuere lorem ipsum dolor sit.'\n",
    "bits = msg.to_bits(message)\n",
    "ham = Hamming(7)\n",
    "enc_bits = ham.encode(bits)\n",
    "# For the given message and the given hamming code there are 16 blocks of 128 bits each.\n",
    "# bits 0,10,11 and 12 correspond to the first bits of blocks 0,10,11 and 12 respectively.\n",
    "# bit 26 corresponds to the second bit of block 10.\n",
    "# bit 43 corresponds to the third bit of block 11.\n",
    "# bit 60 corresponds to the third bit of block 12.\n",
    "# bit 2032 corresponds to the last bit of block 0.\n",
    "altered = msg.negate(enc_bits,0, 10,11,12,26,43,60,2032)\n",
    "decoded = ham.decode(altered)\n",
    "decoded_msg = msg.from_bits(decoded)\n",
    "print(f'Hash of original message: {hash(message)}')\n",
    "print(f'Hash of decoded message : {hash(decoded_msg)}')"
   ]
  }
 ],
 "metadata": {
  "kernelspec": {
   "display_name": "Python 3",
   "language": "python",
   "name": "python3"
  },
  "language_info": {
   "codemirror_mode": {
    "name": "ipython",
    "version": 3
   },
   "file_extension": ".py",
   "mimetype": "text/x-python",
   "name": "python",
   "nbconvert_exporter": "python",
   "pygments_lexer": "ipython3",
   "version": "3.6.9"
  }
 },
 "nbformat": 4,
 "nbformat_minor": 4
}
